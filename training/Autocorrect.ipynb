# Import the libraries for processing data and other utilities

import os, sys, gc, warnings
import logging, math, re, heapq
import pandas as pd
import numpy as np
import seaborn as sns
import matplotlib.pyplot as plt
from collections import Counter    
from nltk.tokenize import word_tokenize
from nltk.corpus import words


# This is to download stop words for cleaning the tweets
import nltk
nltk.download('words')
